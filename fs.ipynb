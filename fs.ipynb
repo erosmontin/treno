{
  "cells": [
    {
      "cell_type": "markdown",
      "metadata": {
        "id": "lVxue2aazlwj"
      },
      "source": [
        "\n",
        "1. [Install Treno](https://github.com/erosmontin/treno)\n",
        "1. FS pipeline definition\n"
      ]
    },
    {
      "cell_type": "code",
      "execution_count": 30,
      "metadata": {
        "colab": {
          "base_uri": "https://localhost:8080/"
        },
        "id": "j8Jvh07vy8ig",
        "outputId": "7730db17-c094-4c6d-8bcf-54ab6c2ece2e"
      },
      "outputs": [
        {
          "data": {
            "text/plain": [
              "['Requirement already satisfied: imbalanced-learn in /data/softwares/installations/miniconda/envs/std/lib/python3.12/site-packages (0.13.0)',\n",
              " 'Requirement already satisfied: numpy<3,>=1.24.3 in /data/softwares/installations/miniconda/envs/std/lib/python3.12/site-packages (from imbalanced-learn) (2.3.1)',\n",
              " 'Requirement already satisfied: scipy<2,>=1.10.1 in /data/softwares/installations/miniconda/envs/std/lib/python3.12/site-packages (from imbalanced-learn) (1.16.0)',\n",
              " 'Requirement already satisfied: scikit-learn<2,>=1.3.2 in /data/softwares/installations/miniconda/envs/std/lib/python3.12/site-packages (from imbalanced-learn) (1.6.0)',\n",
              " 'Requirement already satisfied: sklearn-compat<1,>=0.1 in /data/softwares/installations/miniconda/envs/std/lib/python3.12/site-packages (from imbalanced-learn) (0.1.3)',\n",
              " 'Requirement already satisfied: joblib<2,>=1.1.1 in /data/softwares/installations/miniconda/envs/std/lib/python3.12/site-packages (from imbalanced-learn) (1.4.2)',\n",
              " 'Requirement already satisfied: threadpoolctl<4,>=2.0.0 in /data/softwares/installations/miniconda/envs/std/lib/python3.12/site-packages (from imbalanced-learn) (3.5.0)']"
            ]
          },
          "execution_count": 30,
          "metadata": {},
          "output_type": "execute_result"
        }
      ],
      "source": [
        "!! pip install git+https://github.com/erosmontin/treno #--force-reinstall\n",
        "!! pip install xgboost\n",
        "!! pip install imbalanced-learn\n"
      ]
    },
    {
      "cell_type": "code",
      "execution_count": 31,
      "metadata": {
        "id": "G_EzOO040MvM"
      },
      "outputs": [],
      "source": [
        "from treno.utils import (\n",
        "    remove_nans,\n",
        "    zScoreFeatures,\n",
        "    filterFeaturesByMAD,\n",
        "    filterFeaturesByScore,\n",
        "    filterFeaturesByCorrelation,\n",
        "    rankFeaturesByRepeatedGini\n",
        ")\n",
        "from sklearn.ensemble import RandomForestClassifier\n",
        "\n",
        "def classification_feature_selection(\n",
        "    features,\n",
        "    targets,\n",
        "    groups=None,\n",
        "    score_threshold=0.5,\n",
        "    corr_threshold=0.9,\n",
        "    score_model=None,\n",
        "    score_test_size=0.3,\n",
        "    score_n_repeats=1,\n",
        "    gini_n_repeats=10,\n",
        "    gini_test_size=0.1,\n",
        "    gini_random_seed=None,\n",
        "    return_gini=False\n",
        "):\n",
        "    \"\"\"\n",
        "    Feature selection pipeline for classification.\n",
        "\n",
        "    Parameters:\n",
        "        features: DataFrame or ndarray of features\n",
        "        targets: Series or ndarray of targets\n",
        "        groups: Optional, group labels for splitting\n",
        "        score_threshold: Threshold for feature score selection\n",
        "        corr_threshold: Correlation threshold for feature removal\n",
        "        score_model: scikit-learn classifier to use for scoring (default: RandomForestClassifier)\n",
        "        score_test_size: Test size for score evaluation\n",
        "        score_n_repeats: Number of repeats for score evaluation\n",
        "        gini_n_repeats: Number of repeats for Gini ranking\n",
        "        gini_test_size: Test size for Gini ranking\n",
        "        gini_random_seed: Random seed for Gini ranking\n",
        "        return_gini: If True, also return Gini scores\n",
        "\n",
        "    Returns:\n",
        "        DataFrame of selected features (optionally sorted by Gini), and optionally Gini scores\n",
        "    \"\"\"\n",
        "    # 1. Remove NaNs\n",
        "    features, targets = remove_nans(features, targets)\n",
        "\n",
        "    # 2. Normalize features\n",
        "    features = zScoreFeatures(features)\n",
        "\n",
        "    # 3. Filter by MAD\n",
        "    features = filterFeaturesByMAD(features)\n",
        "    if features.shape[1] == 0:\n",
        "        raise ValueError(\"No features passed MAD filter\")\n",
        "\n",
        "    # 4. Filter by score (user-selected model or RandomForestClassifier)\n",
        "    model = score_model if score_model is not None else RandomForestClassifier()\n",
        "    features, score_values = filterFeaturesByScore(\n",
        "        features,\n",
        "        targets,\n",
        "        groups=groups,\n",
        "        threshold=score_threshold,\n",
        "        return_score=True,\n",
        "        model=model,\n",
        "        test_size=score_test_size,\n",
        "        n_repeats=score_n_repeats\n",
        "    )\n",
        "    if features.shape[1] == 0:\n",
        "        raise ValueError(\"No features passed score filter\")\n",
        "\n",
        "    # 5. Filter by correlation\n",
        "    features = filterFeaturesByCorrelation(\n",
        "        features,\n",
        "        threshold=corr_threshold,\n",
        "        score=score_values.values\n",
        "    )\n",
        "    if features.shape[1] == 0:\n",
        "        raise ValueError(\"No features passed correlation filter\")\n",
        "\n",
        "    # 6. Rank by repeated Gini index (optional)\n",
        "    if return_gini:\n",
        "        features_sorted, gini_ranks = rankFeaturesByRepeatedGini(\n",
        "            features, targets,\n",
        "            n_repeats=gini_n_repeats,\n",
        "            test_size=gini_test_size,\n",
        "            random_seed=gini_random_seed,\n",
        "            groups=groups,\n",
        "            return_gini=True\n",
        "        )\n",
        "        return features_sorted, gini_ranks\n",
        "    else:\n",
        "        features_sorted = rankFeaturesByRepeatedGini(\n",
        "            features, targets,\n",
        "            n_repeats=gini_n_repeats,\n",
        "            test_size=gini_test_size,\n",
        "            random_seed=gini_random_seed,\n",
        "            groups=groups,\n",
        "            return_gini=False\n",
        "        )\n",
        "        return features_sorted"
      ]
    },
    {
      "cell_type": "code",
      "execution_count": 32,
      "metadata": {
        "colab": {
          "base_uri": "https://localhost:8080/"
        },
        "id": "4127e1b0",
        "outputId": "f3f71262-c63b-45da-84e3-19bf749bcd6c"
      },
      "outputs": [
        {
          "ename": "TypeError",
          "evalue": "'int' object is not iterable",
          "output_type": "error",
          "traceback": [
            "\u001b[31m---------------------------------------------------------------------------\u001b[39m",
            "\u001b[31mTypeError\u001b[39m                                 Traceback (most recent call last)",
            "\u001b[36mCell\u001b[39m\u001b[36m \u001b[39m\u001b[32mIn[32]\u001b[39m\u001b[32m, line 6\u001b[39m\n\u001b[32m      1\u001b[39m \u001b[38;5;28;01mfrom\u001b[39;00m\u001b[38;5;250m \u001b[39m\u001b[34;01mtreno\u001b[39;00m\u001b[34;01m.\u001b[39;00m\u001b[34;01mutils\u001b[39;00m\u001b[38;5;250m \u001b[39m\u001b[38;5;28;01mimport\u001b[39;00m generate_fake_data\n\u001b[32m      2\u001b[39m \u001b[38;5;66;03m# Generate classification data with groups\u001b[39;00m\n\u001b[32m      3\u001b[39m \n\u001b[32m      4\u001b[39m \n\u001b[32m      5\u001b[39m \u001b[38;5;66;03m# Use the classification data with groups to test the pipeline\u001b[39;00m\n\u001b[32m----> \u001b[39m\u001b[32m6\u001b[39m x, y, groups = \u001b[43mgenerate_fake_data\u001b[49m\u001b[43m(\u001b[49m\u001b[43mn_samples\u001b[49m\u001b[43m=\u001b[49m\u001b[32;43m200\u001b[39;49m\u001b[43m,\u001b[49m\u001b[43m \u001b[49m\u001b[43mn_features\u001b[49m\u001b[43m=\u001b[49m\u001b[32;43m30\u001b[39;49m\u001b[43m,\u001b[49m\u001b[43m \u001b[49m\u001b[43mn_groups\u001b[49m\u001b[43m=\u001b[49m\u001b[32;43m10\u001b[39;49m\u001b[43m,\u001b[49m\u001b[43m \u001b[49m\u001b[43mclassification\u001b[49m\u001b[43m=\u001b[49m\u001b[38;5;28;43;01mTrue\u001b[39;49;00m\u001b[43m,\u001b[49m\u001b[43m \u001b[49m\u001b[43mrandom_state\u001b[49m\u001b[43m=\u001b[49m\u001b[32;43m42\u001b[39;49m\u001b[43m)\u001b[49m\n\u001b[32m      9\u001b[39m \u001b[38;5;66;03m# Example: Only selected features\u001b[39;00m\n\u001b[32m     10\u001b[39m selected_features = classification_feature_selection(x, y)\n",
            "\u001b[36mFile \u001b[39m\u001b[32m/data/PERSONALPROJECTS/myPackages/treno/treno/utils.py:296\u001b[39m, in \u001b[36mgenerate_fake_data\u001b[39m\u001b[34m(n_samples, n_features, n_groups, classification, random_state)\u001b[39m\n\u001b[32m    294\u001b[39m \u001b[38;5;28;01mif\u001b[39;00m random_state \u001b[38;5;129;01mis\u001b[39;00m \u001b[38;5;129;01mnot\u001b[39;00m \u001b[38;5;28;01mNone\u001b[39;00m:\n\u001b[32m    295\u001b[39m     np.random.seed(random_state)\n\u001b[32m--> \u001b[39m\u001b[32m296\u001b[39m x = pd.DataFrame(np.random.rand(n_samples, n_features), columns=\u001b[43m[\u001b[49m\u001b[33;43mf\u001b[39;49m\u001b[33;43m'\u001b[39;49m\u001b[33;43mfeature_\u001b[39;49m\u001b[38;5;132;43;01m{\u001b[39;49;00m\u001b[43mi\u001b[49m\u001b[38;5;132;43;01m}\u001b[39;49;00m\u001b[33;43m'\u001b[39;49m\u001b[43m \u001b[49m\u001b[38;5;28;43;01mfor\u001b[39;49;00m\u001b[43m \u001b[49m\u001b[43mi\u001b[49m\u001b[43m \u001b[49m\u001b[38;5;129;43;01min\u001b[39;49;00m\u001b[43m \u001b[49m\u001b[43mn_features\u001b[49m\u001b[43m]\u001b[49m)\n\u001b[32m    297\u001b[39m \u001b[38;5;28;01mif\u001b[39;00m classification:\n\u001b[32m    298\u001b[39m     y = pd.Series(np.random.randint(\u001b[32m0\u001b[39m, \u001b[32m2\u001b[39m, n_samples), name=\u001b[33m'\u001b[39m\u001b[33mlabel\u001b[39m\u001b[33m'\u001b[39m)\n",
            "\u001b[31mTypeError\u001b[39m: 'int' object is not iterable"
          ]
        }
      ],
      "source": [
        "from treno.utils import generate_fake_data\n",
        "# Generate classification data with groups\n",
        "\n",
        "\n",
        "# Use the classification data with groups to test the pipeline\n",
        "x, y, groups = generate_fake_data(n_samples=200, n_features=30, n_groups=10, classification=True, random_state=42)\n",
        "\n",
        "\n",
        "# Example: Only selected features\n",
        "selected_features = classification_feature_selection(x, y)\n",
        "print(\"Selected features after pipeline:\", selected_features.columns.tolist())\n",
        "\n",
        "# Example: Selected features and Gini scores\n",
        "selected_features, gini_scores = classification_feature_selection(x, y, return_gini=True)\n",
        "print(\"Selected features after pipeline:\", selected_features.columns.tolist())\n",
        "print(\"Gini scores:\\n\", gini_scores)"
      ]
    }
  ],
  "metadata": {
    "colab": {
      "provenance": []
    },
    "kernelspec": {
      "display_name": "std",
      "language": "python",
      "name": "python3"
    },
    "language_info": {
      "codemirror_mode": {
        "name": "ipython",
        "version": 3
      },
      "file_extension": ".py",
      "mimetype": "text/x-python",
      "name": "python",
      "nbconvert_exporter": "python",
      "pygments_lexer": "ipython3",
      "version": "3.12.7"
    }
  },
  "nbformat": 4,
  "nbformat_minor": 0
}
