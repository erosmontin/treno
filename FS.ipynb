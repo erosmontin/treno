{
  "nbformat": 4,
  "nbformat_minor": 0,
  "metadata": {
    "colab": {
      "provenance": [],
      "authorship_tag": "ABX9TyNrBtxL+RQ1QhrqizO0SSCb",
      "include_colab_link": true
    },
    "kernelspec": {
      "name": "python3",
      "display_name": "Python 3"
    },
    "language_info": {
      "name": "python"
    }
  },
  "cells": [
    {
      "cell_type": "markdown",
      "metadata": {
        "id": "view-in-github",
        "colab_type": "text"
      },
      "source": [
        "<a href=\"https://colab.research.google.com/github/erosmontin/treno/blob/main/FS.ipynb\" target=\"_parent\"><img src=\"https://colab.research.google.com/assets/colab-badge.svg\" alt=\"Open In Colab\"/></a>"
      ]
    },
    {
      "cell_type": "markdown",
      "source": [
        "\n",
        "1. [Install Treno](https://github.com/erosmontin/treno)\n",
        "1. FS pipeline definition\n"
      ],
      "metadata": {
        "id": "lVxue2aazlwj"
      }
    },
    {
      "cell_type": "code",
      "source": [
        "!! pip install git+https://github.com/erosmontin/treno #--force-reinstall\n",
        "\n"
      ],
      "metadata": {
        "colab": {
          "base_uri": "https://localhost:8080/",
          "height": 1000
        },
        "id": "aD1ikmk4ATUQ",
        "outputId": "855d7a32-18df-4588-dd08-0eeff0a810d6"
      },
      "execution_count": null,
      "outputs": [
        {
          "output_type": "display_data",
          "data": {
            "application/vnd.colab-display-data+json": {
              "pip_warning": {
                "packages": [
                  "treno"
                ]
              },
              "id": "b5618693ed0541be80bfc0d13db982e2"
            }
          },
          "metadata": {}
        },
        {
          "output_type": "execute_result",
          "data": {
            "text/plain": [
              "['Collecting git+https://github.com/erosmontin/treno',\n",
              " '  Cloning https://github.com/erosmontin/treno to /tmp/pip-req-build-o9jbp9_f',\n",
              " '  Running command git clone --filter=blob:none --quiet https://github.com/erosmontin/treno /tmp/pip-req-build-o9jbp9_f',\n",
              " '  Resolved https://github.com/erosmontin/treno to commit a2ba55c58f8049135954dcd5d3fbd19f360b6a97',\n",
              " '  Installing build dependencies ... \\x1b[?25l\\x1b[?25hdone',\n",
              " '  Getting requirements to build wheel ... \\x1b[?25l\\x1b[?25hdone',\n",
              " '  Preparing metadata (pyproject.toml) ... \\x1b[?25l\\x1b[?25hdone',\n",
              " 'Collecting pyable-eros-montin@ git+https://github.com/erosmontin/pyable.git (from treno==2.0.5.0)',\n",
              " '  Cloning https://github.com/erosmontin/pyable.git to /tmp/pip-install-rt_ha9ph/pyable-eros-montin_62d57de4464d48adb6b6c6a81197d2b4',\n",
              " '  Running command git clone --filter=blob:none --quiet https://github.com/erosmontin/pyable.git /tmp/pip-install-rt_ha9ph/pyable-eros-montin_62d57de4464d48adb6b6c6a81197d2b4',\n",
              " '  Resolved https://github.com/erosmontin/pyable.git to commit 4cd2b95f5352c165a1a59c187033f1eb6cec00f4',\n",
              " '  Installing build dependencies ... \\x1b[?25l\\x1b[?25hdone',\n",
              " '  Getting requirements to build wheel ... \\x1b[?25l\\x1b[?25hdone',\n",
              " '  Preparing metadata (pyproject.toml) ... \\x1b[?25l\\x1b[?25hdone',\n",
              " 'Collecting pynico-eros-montin@ git+https://github.com/erosmontin/pynico.git (from treno==2.0.5.0)',\n",
              " '  Cloning https://github.com/erosmontin/pynico.git to /tmp/pip-install-rt_ha9ph/pynico-eros-montin_8b62f96713084d058eca392fc1998661',\n",
              " '  Running command git clone --filter=blob:none --quiet https://github.com/erosmontin/pynico.git /tmp/pip-install-rt_ha9ph/pynico-eros-montin_8b62f96713084d058eca392fc1998661',\n",
              " '  Resolved https://github.com/erosmontin/pynico.git to commit 9efe33a85c0a092e3fea6603fead70df08d7af7d',\n",
              " '  Installing build dependencies ... \\x1b[?25l\\x1b[?25hdone',\n",
              " '  Getting requirements to build wheel ... \\x1b[?25l\\x1b[?25hdone',\n",
              " '  Preparing metadata (pyproject.toml) ... \\x1b[?25l\\x1b[?25hdone',\n",
              " 'Requirement already satisfied: imbalanced-learn in /usr/local/lib/python3.11/dist-packages (from treno==2.0.5.0) (0.13.0)',\n",
              " 'Requirement already satisfied: numpy in /usr/local/lib/python3.11/dist-packages (from treno==2.0.5.0) (2.3.1)',\n",
              " 'Requirement already satisfied: pandas in /usr/local/lib/python3.11/dist-packages (from treno==2.0.5.0) (2.3.1)',\n",
              " 'Requirement already satisfied: scikit-learn in /usr/local/lib/python3.11/dist-packages (from treno==2.0.5.0) (1.6.1)',\n",
              " 'Requirement already satisfied: tensorboard in /usr/local/lib/python3.11/dist-packages (from treno==2.0.5.0) (2.19.0)',\n",
              " 'Requirement already satisfied: torch in /usr/local/lib/python3.11/dist-packages (from treno==2.0.5.0) (2.7.1)',\n",
              " 'Requirement already satisfied: torchvision in /usr/local/lib/python3.11/dist-packages (from treno==2.0.5.0) (0.22.1)',\n",
              " 'Requirement already satisfied: torchviz in /usr/local/lib/python3.11/dist-packages (from treno==2.0.5.0) (0.0.3)',\n",
              " 'Requirement already satisfied: tqdm in /usr/local/lib/python3.11/dist-packages (from treno==2.0.5.0) (4.67.1)',\n",
              " 'Requirement already satisfied: scipy<2,>=1.10.1 in /usr/local/lib/python3.11/dist-packages (from imbalanced-learn->treno==2.0.5.0) (1.16.0)',\n",
              " 'Requirement already satisfied: sklearn-compat<1,>=0.1 in /usr/local/lib/python3.11/dist-packages (from imbalanced-learn->treno==2.0.5.0) (0.1.3)',\n",
              " 'Requirement already satisfied: joblib<2,>=1.1.1 in /usr/local/lib/python3.11/dist-packages (from imbalanced-learn->treno==2.0.5.0) (1.5.1)',\n",
              " 'Requirement already satisfied: threadpoolctl<4,>=2.0.0 in /usr/local/lib/python3.11/dist-packages (from imbalanced-learn->treno==2.0.5.0) (3.6.0)',\n",
              " 'Requirement already satisfied: python-dateutil>=2.8.2 in /usr/local/lib/python3.11/dist-packages (from pandas->treno==2.0.5.0) (2.9.0.post0)',\n",
              " 'Requirement already satisfied: pytz>=2020.1 in /usr/local/lib/python3.11/dist-packages (from pandas->treno==2.0.5.0) (2025.2)',\n",
              " 'Requirement already satisfied: tzdata>=2022.7 in /usr/local/lib/python3.11/dist-packages (from pandas->treno==2.0.5.0) (2025.2)',\n",
              " 'Requirement already satisfied: matplotlib in /usr/local/lib/python3.11/dist-packages (from pyable-eros-montin@ git+https://github.com/erosmontin/pyable.git->treno==2.0.5.0) (3.10.3)',\n",
              " 'Requirement already satisfied: scikit-image in /usr/local/lib/python3.11/dist-packages (from pyable-eros-montin@ git+https://github.com/erosmontin/pyable.git->treno==2.0.5.0) (0.25.2)',\n",
              " 'Requirement already satisfied: simpleitk>2.0 in /usr/local/lib/python3.11/dist-packages (from pyable-eros-montin@ git+https://github.com/erosmontin/pyable.git->treno==2.0.5.0) (2.5.2)',\n",
              " 'Requirement already satisfied: vtk in /usr/local/lib/python3.11/dist-packages (from pyable-eros-montin@ git+https://github.com/erosmontin/pyable.git->treno==2.0.5.0) (9.5.0)',\n",
              " 'Requirement already satisfied: setuptools in /usr/local/lib/python3.11/dist-packages (from pynico-eros-montin@ git+https://github.com/erosmontin/pynico.git->treno==2.0.5.0) (80.9.0)',\n",
              " 'Requirement already satisfied: absl-py>=0.4 in /usr/local/lib/python3.11/dist-packages (from tensorboard->treno==2.0.5.0) (2.3.1)',\n",
              " 'Requirement already satisfied: grpcio>=1.48.2 in /usr/local/lib/python3.11/dist-packages (from tensorboard->treno==2.0.5.0) (1.73.1)',\n",
              " 'Requirement already satisfied: markdown>=2.6.8 in /usr/local/lib/python3.11/dist-packages (from tensorboard->treno==2.0.5.0) (3.8.2)',\n",
              " 'Requirement already satisfied: packaging in /usr/local/lib/python3.11/dist-packages (from tensorboard->treno==2.0.5.0) (25.0)',\n",
              " 'Requirement already satisfied: protobuf!=4.24.0,>=3.19.6 in /usr/local/lib/python3.11/dist-packages (from tensorboard->treno==2.0.5.0) (6.31.1)',\n",
              " 'Requirement already satisfied: six>1.9 in /usr/local/lib/python3.11/dist-packages (from tensorboard->treno==2.0.5.0) (1.17.0)',\n",
              " 'Requirement already satisfied: tensorboard-data-server<0.8.0,>=0.7.0 in /usr/local/lib/python3.11/dist-packages (from tensorboard->treno==2.0.5.0) (0.7.2)',\n",
              " 'Requirement already satisfied: werkzeug>=1.0.1 in /usr/local/lib/python3.11/dist-packages (from tensorboard->treno==2.0.5.0) (3.1.3)',\n",
              " 'Requirement already satisfied: filelock in /usr/local/lib/python3.11/dist-packages (from torch->treno==2.0.5.0) (3.18.0)',\n",
              " 'Requirement already satisfied: typing-extensions>=4.10.0 in /usr/local/lib/python3.11/dist-packages (from torch->treno==2.0.5.0) (4.14.1)',\n",
              " 'Requirement already satisfied: sympy>=1.13.3 in /usr/local/lib/python3.11/dist-packages (from torch->treno==2.0.5.0) (1.14.0)',\n",
              " 'Requirement already satisfied: networkx in /usr/local/lib/python3.11/dist-packages (from torch->treno==2.0.5.0) (3.5)',\n",
              " 'Requirement already satisfied: jinja2 in /usr/local/lib/python3.11/dist-packages (from torch->treno==2.0.5.0) (3.1.6)',\n",
              " 'Requirement already satisfied: fsspec in /usr/local/lib/python3.11/dist-packages (from torch->treno==2.0.5.0) (2025.7.0)',\n",
              " 'Requirement already satisfied: nvidia-cuda-nvrtc-cu12==12.6.77 in /usr/local/lib/python3.11/dist-packages (from torch->treno==2.0.5.0) (12.6.77)',\n",
              " 'Requirement already satisfied: nvidia-cuda-runtime-cu12==12.6.77 in /usr/local/lib/python3.11/dist-packages (from torch->treno==2.0.5.0) (12.6.77)',\n",
              " 'Requirement already satisfied: nvidia-cuda-cupti-cu12==12.6.80 in /usr/local/lib/python3.11/dist-packages (from torch->treno==2.0.5.0) (12.6.80)',\n",
              " 'Requirement already satisfied: nvidia-cudnn-cu12==9.5.1.17 in /usr/local/lib/python3.11/dist-packages (from torch->treno==2.0.5.0) (9.5.1.17)',\n",
              " 'Requirement already satisfied: nvidia-cublas-cu12==12.6.4.1 in /usr/local/lib/python3.11/dist-packages (from torch->treno==2.0.5.0) (12.6.4.1)',\n",
              " 'Requirement already satisfied: nvidia-cufft-cu12==11.3.0.4 in /usr/local/lib/python3.11/dist-packages (from torch->treno==2.0.5.0) (11.3.0.4)',\n",
              " 'Requirement already satisfied: nvidia-curand-cu12==10.3.7.77 in /usr/local/lib/python3.11/dist-packages (from torch->treno==2.0.5.0) (10.3.7.77)',\n",
              " 'Requirement already satisfied: nvidia-cusolver-cu12==11.7.1.2 in /usr/local/lib/python3.11/dist-packages (from torch->treno==2.0.5.0) (11.7.1.2)',\n",
              " 'Requirement already satisfied: nvidia-cusparse-cu12==12.5.4.2 in /usr/local/lib/python3.11/dist-packages (from torch->treno==2.0.5.0) (12.5.4.2)',\n",
              " 'Requirement already satisfied: nvidia-cusparselt-cu12==0.6.3 in /usr/local/lib/python3.11/dist-packages (from torch->treno==2.0.5.0) (0.6.3)',\n",
              " 'Requirement already satisfied: nvidia-nccl-cu12==2.26.2 in /usr/local/lib/python3.11/dist-packages (from torch->treno==2.0.5.0) (2.26.2)',\n",
              " 'Requirement already satisfied: nvidia-nvtx-cu12==12.6.77 in /usr/local/lib/python3.11/dist-packages (from torch->treno==2.0.5.0) (12.6.77)',\n",
              " 'Requirement already satisfied: nvidia-nvjitlink-cu12==12.6.85 in /usr/local/lib/python3.11/dist-packages (from torch->treno==2.0.5.0) (12.6.85)',\n",
              " 'Requirement already satisfied: nvidia-cufile-cu12==1.11.1.6 in /usr/local/lib/python3.11/dist-packages (from torch->treno==2.0.5.0) (1.11.1.6)',\n",
              " 'Requirement already satisfied: triton==3.3.1 in /usr/local/lib/python3.11/dist-packages (from torch->treno==2.0.5.0) (3.3.1)',\n",
              " 'Requirement already satisfied: pillow!=8.3.*,>=5.3.0 in /usr/local/lib/python3.11/dist-packages (from torchvision->treno==2.0.5.0) (11.3.0)',\n",
              " 'Requirement already satisfied: graphviz in /usr/local/lib/python3.11/dist-packages (from torchviz->treno==2.0.5.0) (0.21)',\n",
              " 'Requirement already satisfied: mpmath<1.4,>=1.1.0 in /usr/local/lib/python3.11/dist-packages (from sympy>=1.13.3->torch->treno==2.0.5.0) (1.3.0)',\n",
              " 'Requirement already satisfied: MarkupSafe>=2.1.1 in /usr/local/lib/python3.11/dist-packages (from werkzeug>=1.0.1->tensorboard->treno==2.0.5.0) (3.0.2)',\n",
              " 'Requirement already satisfied: contourpy>=1.0.1 in /usr/local/lib/python3.11/dist-packages (from matplotlib->pyable-eros-montin@ git+https://github.com/erosmontin/pyable.git->treno==2.0.5.0) (1.3.2)',\n",
              " 'Requirement already satisfied: cycler>=0.10 in /usr/local/lib/python3.11/dist-packages (from matplotlib->pyable-eros-montin@ git+https://github.com/erosmontin/pyable.git->treno==2.0.5.0) (0.12.1)',\n",
              " 'Requirement already satisfied: fonttools>=4.22.0 in /usr/local/lib/python3.11/dist-packages (from matplotlib->pyable-eros-montin@ git+https://github.com/erosmontin/pyable.git->treno==2.0.5.0) (4.59.0)',\n",
              " 'Requirement already satisfied: kiwisolver>=1.3.1 in /usr/local/lib/python3.11/dist-packages (from matplotlib->pyable-eros-montin@ git+https://github.com/erosmontin/pyable.git->treno==2.0.5.0) (1.4.8)',\n",
              " 'Requirement already satisfied: pyparsing>=2.3.1 in /usr/local/lib/python3.11/dist-packages (from matplotlib->pyable-eros-montin@ git+https://github.com/erosmontin/pyable.git->treno==2.0.5.0) (3.2.3)',\n",
              " 'Requirement already satisfied: imageio!=2.35.0,>=2.33 in /usr/local/lib/python3.11/dist-packages (from scikit-image->pyable-eros-montin@ git+https://github.com/erosmontin/pyable.git->treno==2.0.5.0) (2.37.0)',\n",
              " 'Requirement already satisfied: tifffile>=2022.8.12 in /usr/local/lib/python3.11/dist-packages (from scikit-image->pyable-eros-montin@ git+https://github.com/erosmontin/pyable.git->treno==2.0.5.0) (2025.6.11)',\n",
              " 'Requirement already satisfied: lazy-loader>=0.4 in /usr/local/lib/python3.11/dist-packages (from scikit-image->pyable-eros-montin@ git+https://github.com/erosmontin/pyable.git->treno==2.0.5.0) (0.4)',\n",
              " 'Building wheels for collected packages: treno',\n",
              " '  Building wheel for treno (pyproject.toml) ... \\x1b[?25l\\x1b[?25hdone',\n",
              " '  Created wheel for treno: filename=treno-2.0.5.0-py3-none-any.whl size=18738 sha256=a42f63422de36b2b5764049143087c513708464259f1d2c22e88b2cc9b77fcfa',\n",
              " '  Stored in directory: /tmp/pip-ephem-wheel-cache-xwkw96v7/wheels/4c/a7/ec/af6fee1365ee16c6f17e28bcb2459ef79e2c88ee62d268f058',\n",
              " 'Successfully built treno',\n",
              " 'Installing collected packages: treno',\n",
              " '  Attempting uninstall: treno',\n",
              " '    Found existing installation: treno 2.0.4.9',\n",
              " '    Uninstalling treno-2.0.4.9:',\n",
              " '      Successfully uninstalled treno-2.0.4.9',\n",
              " 'Successfully installed treno-2.0.5.0']"
            ]
          },
          "metadata": {},
          "execution_count": 6
        }
      ]
    },
    {
      "cell_type": "code",
      "source": [
        "\n",
        "from treno.utils import (\n",
        "feature_selection,generate_fake_data)\n",
        "from sklearn.linear_model import LassoCV\n",
        "\n",
        "\n",
        "x,y,groups = generate_fake_data(n_samples=400, n_features=30, n_groups=2, classification=False, random_state=42)\n",
        "xsorted,gini = feature_selection(x,y,groups=groups,return_gini=True,task=\"regression\",corr_threshold=.2,score_threshold=.2,score_model=LassoCV())\n",
        "print(\"Selected features after pipeline:\", xsorted.columns.tolist())\n",
        "print(\"Gini scores:\\n\", gini)\n",
        "\n",
        "\n",
        "import pandas as pd\n",
        "from sklearn.linear_model import LassoCV\n",
        "from sklearn.preprocessing import StandardScaler\n",
        "from sklearn.pipeline import Pipeline\n",
        "\n",
        "X=zScoreFeatures(x[xsorted.columns])\n",
        "# 2. Fit to your data\n",
        "pipe.fit(X, y)\n",
        "\n",
        "# 3. Extract non‑zero coefficients\n",
        "coef = pipe.named_steps['lasso'].coef_\n",
        "selected = X.columns[coef != 0]\n",
        "\n",
        "print(f\"Selected {len(selected)} features via LASSO:\")\n",
        "print(selected.tolist())\n",
        "\n",
        "\n",
        "\n",
        "from sklearn.feature_selection import SelectKBest, f_regression\n",
        "\n",
        "selector = SelectKBest(score_func=f_regression, k=5)\n",
        "selector.fit(x, y)\n",
        "\n",
        "# 2. Get the boolean mask and feature names\n",
        "mask = selector.get_support()               # array of True/False\n",
        "selected_features = x.columns[mask]         # Index of selected column names\n",
        "print(\"Selected features:\", selected_features.tolist())\n",
        "\n"
      ],
      "metadata": {
        "colab": {
          "base_uri": "https://localhost:8080/"
        },
        "id": "0kYHQLMbCArQ",
        "outputId": "dadff626-ce0e-4a0d-88e7-2a50b9d37cfc"
      },
      "execution_count": 27,
      "outputs": [
        {
          "output_type": "stream",
          "name": "stderr",
          "text": [
            "/usr/local/lib/python3.11/dist-packages/treno/utils.py:240: ConstantInputWarning: An input array is constant; the correlation coefficient is not defined.\n",
            "  score = abs(pearsonr(y_test.values.ravel(), y_pred.ravel())[0])\n",
            "/usr/local/lib/python3.11/dist-packages/treno/utils.py:240: ConstantInputWarning: An input array is constant; the correlation coefficient is not defined.\n",
            "  score = abs(pearsonr(y_test.values.ravel(), y_pred.ravel())[0])\n",
            "/usr/local/lib/python3.11/dist-packages/treno/utils.py:240: ConstantInputWarning: An input array is constant; the correlation coefficient is not defined.\n",
            "  score = abs(pearsonr(y_test.values.ravel(), y_pred.ravel())[0])\n",
            "/usr/local/lib/python3.11/dist-packages/treno/utils.py:240: ConstantInputWarning: An input array is constant; the correlation coefficient is not defined.\n",
            "  score = abs(pearsonr(y_test.values.ravel(), y_pred.ravel())[0])\n",
            "/usr/local/lib/python3.11/dist-packages/treno/utils.py:240: ConstantInputWarning: An input array is constant; the correlation coefficient is not defined.\n",
            "  score = abs(pearsonr(y_test.values.ravel(), y_pred.ravel())[0])\n",
            "/usr/local/lib/python3.11/dist-packages/treno/utils.py:240: ConstantInputWarning: An input array is constant; the correlation coefficient is not defined.\n",
            "  score = abs(pearsonr(y_test.values.ravel(), y_pred.ravel())[0])\n",
            "/usr/local/lib/python3.11/dist-packages/treno/utils.py:240: ConstantInputWarning: An input array is constant; the correlation coefficient is not defined.\n",
            "  score = abs(pearsonr(y_test.values.ravel(), y_pred.ravel())[0])\n",
            "/usr/local/lib/python3.11/dist-packages/treno/utils.py:240: ConstantInputWarning: An input array is constant; the correlation coefficient is not defined.\n",
            "  score = abs(pearsonr(y_test.values.ravel(), y_pred.ravel())[0])\n"
          ]
        },
        {
          "output_type": "stream",
          "name": "stdout",
          "text": [
            "Selected features after pipeline: ['feature_12', 'feature_7', 'feature_5', 'feature_24', 'feature_17', 'feature_3', 'feature_23']\n",
            "Gini scores:\n",
            " feature_12   -0.007077\n",
            "feature_7    -0.007273\n",
            "feature_5    -0.007287\n",
            "feature_24   -0.007820\n",
            "feature_17   -0.009604\n",
            "feature_3    -0.009631\n",
            "feature_23   -0.009913\n",
            "dtype: float64\n",
            "Selected 7 features via LASSO:\n",
            "['feature_12', 'feature_7', 'feature_5', 'feature_24', 'feature_17', 'feature_3', 'feature_23']\n",
            "Selected features: ['feature_3', 'feature_9', 'feature_13', 'feature_17', 'feature_23']\n"
          ]
        }
      ]
    },
    {
      "cell_type": "code",
      "source": [
        "x,y,groups = generate_fake_data(n_samples=200, n_features=30, n_groups=10, classification=True, random_state=42)\n",
        "xsorted,gini = feature_selection(x,y,groups=groups,return_gini=True,task=\"classification\",corr_threshold=.5)\n",
        "print(\"Selected features after pipeline:\", xsorted.columns.tolist())\n",
        "print(\"Gini scores:\\n\", gini)\n",
        "\n",
        "\n",
        "import pandas as pd\n",
        "from sklearn.linear_model import LassoCV\n",
        "from sklearn.preprocessing import StandardScaler\n",
        "from sklearn.pipeline import Pipeline\n",
        "\n",
        "# X: DataFrame of shape (n_samples, n_features)\n",
        "# y: target array of length n_samples\n",
        "\n",
        "# 1. Build a pipeline that scales then runs Lasso with built‑in cross‑validation\n",
        "pipe = Pipeline([\n",
        "    ('scaler', StandardScaler()),\n",
        "    ('lasso', LassoCV(cv=5,    # 5‑fold CV to choose alpha\n",
        "                      n_alphas=50,\n",
        "                      max_iter=5000,\n",
        "                      random_state=42))\n",
        "])\n",
        "from treno.utils import (zScoreFeatures)\n",
        "\n",
        "X=zScoreFeatures(x[xsorted.columns])\n",
        "# 2. Fit to your data\n",
        "pipe.fit(X, y)\n",
        "\n",
        "# 3. Extract non‑zero coefficients\n",
        "coef = pipe.named_steps['lasso'].coef_\n",
        "selected = X.columns[coef != 0]\n",
        "\n",
        "print(f\"Selected {len(selected)} features via LASSO:\")\n",
        "print(selected.tolist())\n"
      ],
      "metadata": {
        "colab": {
          "base_uri": "https://localhost:8080/"
        },
        "id": "QfpFlN22Hqyp",
        "outputId": "257c3388-bcaf-4da6-95a2-4104401f83fa"
      },
      "execution_count": 11,
      "outputs": [
        {
          "output_type": "stream",
          "name": "stdout",
          "text": [
            "Selected features after pipeline: ['feature_18', 'feature_5', 'feature_0', 'feature_19', 'feature_7', 'feature_20', 'feature_14', 'feature_4', 'feature_1', 'feature_11', 'feature_26', 'feature_24', 'feature_15', 'feature_6', 'feature_22', 'feature_17', 'feature_8', 'feature_29', 'feature_23', 'feature_9']\n",
            "Gini scores:\n",
            " feature_18    0.036747\n",
            "feature_5     0.036360\n",
            "feature_0     0.017501\n",
            "feature_19    0.011187\n",
            "feature_7     0.007570\n",
            "feature_20    0.007183\n",
            "feature_14    0.006213\n",
            "feature_4     0.006008\n",
            "feature_1     0.004478\n",
            "feature_11    0.003212\n",
            "feature_26   -0.003976\n",
            "feature_24   -0.010668\n",
            "feature_15   -0.013956\n",
            "feature_6    -0.016791\n",
            "feature_22   -0.024269\n",
            "feature_17   -0.026408\n",
            "feature_8    -0.029858\n",
            "feature_29   -0.033772\n",
            "feature_23   -0.042258\n",
            "feature_9    -0.069969\n",
            "dtype: float64\n",
            "Selected 7 features via LASSO:\n",
            "['feature_18', 'feature_5', 'feature_22', 'feature_8', 'feature_29', 'feature_23', 'feature_9']\n"
          ]
        }
      ]
    }
  ]
}